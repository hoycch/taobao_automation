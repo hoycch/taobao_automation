{
 "cells": [
  {
   "cell_type": "code",
   "execution_count": 1,
   "metadata": {},
   "outputs": [],
   "source": [
    "import pandas as pd\n",
    "\n",
    "data = pd.read_excel('scraped_taobao.xlsx')"
   ]
  },
  {
   "cell_type": "code",
   "execution_count": 2,
   "metadata": {},
   "outputs": [
    {
     "data": {
      "text/plain": [
       "0     YT7520227606958\n",
       "1      78872888436545\n",
       "2     YT7520086363179\n",
       "3     YT7520086363179\n",
       "4     YT7519875826872\n",
       "5     SF3159803405990\n",
       "6     773333738950228\n",
       "7      78872621823036\n",
       "8     YT7519984235969\n",
       "9     YT7519722292278\n",
       "10    434372646468319\n",
       "11    YT7519844384772\n",
       "Name: Key, dtype: object"
      ]
     },
     "execution_count": 2,
     "metadata": {},
     "output_type": "execute_result"
    }
   ],
   "source": [
    "data['Key']"
   ]
  },
  {
   "cell_type": "code",
   "execution_count": 3,
   "metadata": {},
   "outputs": [],
   "source": [
    "\n",
    "import time\n",
    "import random\n",
    "import csv\n",
    "from selenium import webdriver\n",
    "from selenium.webdriver.common.by import By\n",
    "from selenium.webdriver.chrome.service import Service\n",
    "from selenium.webdriver.common.keys import Keys\n",
    "from selenium.webdriver.common.action_chains import ActionChains\n",
    "from selenium.webdriver.chrome.options import Options\n",
    "from selenium.webdriver.support.ui import WebDriverWait\n",
    "from selenium.webdriver.support import expected_conditions as EC\n",
    "from selenium.common.exceptions import NoSuchElementException\n",
    "from selenium.webdriver.common.proxy import Proxy, ProxyType\n",
    "import undetected_chromedriver as uc"
   ]
  },
  {
   "cell_type": "code",
   "execution_count": 4,
   "metadata": {},
   "outputs": [],
   "source": [
    "options = webdriver.ChromeOptions()\n",
    "driver = uc.Chrome()\n",
    "driver.get(\"https://www.szjy188.com/checkout-v2\")\n"
   ]
  },
  {
   "cell_type": "code",
   "execution_count": 7,
   "metadata": {},
   "outputs": [],
   "source": [
    "\n",
    "options = webdriver.ChromeOptions()\n",
    "driver = uc.Chrome()\n",
    "driver.get(\"https://www.szjy188.com/order-detail?order_id=SZ17346743709458\")\n",
    "\n",
    "# Locate the username/email field and enter the username\n",
    "username_field = driver.find_element(By.ID, \"login-form-username\")  # Update with the field's name or ID\n",
    "username_field.send_keys(\"jkerchek\")\n",
    "password_field = driver.find_element(By.ID, \"login-form-password\")  # Update with the field's name or ID\n",
    "password_field.send_keys(\"jeb614,.\")\n",
    "\n"
   ]
  },
  {
   "cell_type": "code",
   "execution_count": 8,
   "metadata": {},
   "outputs": [],
   "source": [
    "\n",
    "# Locate and click the login/submit button\n",
    "submit_button = driver.find_element(By.CLASS_NAME, 'button-3d')  # Update with the button's XPath or ID\n",
    "submit_button.click()\n"
   ]
  },
  {
   "cell_type": "code",
   "execution_count": 9,
   "metadata": {},
   "outputs": [
    {
     "name": "stdout",
     "output_type": "stream",
     "text": [
      "None\n"
     ]
    }
   ],
   "source": [
    "token = driver.execute_script(\"return localStorage.getItem('authToken');\")\n",
    "print(token)"
   ]
  },
  {
   "cell_type": "code",
   "execution_count": 10,
   "metadata": {},
   "outputs": [],
   "source": [
    "cookies = driver.get_cookies()\n",
    "import json\n",
    "with open(\"cookies.json\", \"w\") as cookie_file:\n",
    "    json.dump(cookies, cookie_file, indent=4)\n",
    "\n",
    "driver.quit()    "
   ]
  },
  {
   "cell_type": "code",
   "execution_count": 79,
   "metadata": {},
   "outputs": [],
   "source": [
    "\n",
    "# options = webdriver.ChromeOptions()\n",
    "driver = uc.Chrome()\n",
    "driver.get(\"https://www.szjy188.com/order-detail?order_id=SZ17346743709458\")\n",
    "\n",
    "with open(\"cookies.json\", \"r\") as cookie_file:\n",
    "    cookies = json.load(cookie_file)\n",
    "    for cookie in cookies:\n",
    "        driver.add_cookie(cookie)\n",
    "\n",
    "\n",
    "\n",
    "driver.get(\"https://www.szjy188.com/order-detail?order_id=SZ17346743709458\")"
   ]
  },
  {
   "cell_type": "code",
   "execution_count": 81,
   "metadata": {},
   "outputs": [
    {
     "name": "stdout",
     "output_type": "stream",
     "text": [
      "Key 'DPK301630538159' not found. Returning 0.\n",
      "Key 'DPK301630538159' not found. Returning 0.\n",
      "Key 'DPK301630538159' not found. Returning 0.\n",
      "Key 'DPK301630538159' not found. Returning 0.\n",
      "Key 'DPK301630538159' not found. Returning 0.\n",
      "Key 'DPK301630538159' not found. Returning 0.\n"
     ]
    }
   ],
   "source": [
    "third_sibling_texts = []\n",
    "\n",
    "for key in data['Key']:\n",
    "    try:\n",
    "        # Locate the element using the key text (modify XPath as per your HTML structure)\n",
    "        element = driver.find_element(By.XPATH, f\"//*[contains(text(), '{key}')]\")\n",
    "        \n",
    "        parent = element.find_element(By.XPATH, \"./parent::*\")\n",
    "        # Find the third next sibling\n",
    "        third_sibling = parent.find_element(By.XPATH, \"following-sibling::*[2]\")\n",
    "        \n",
    "        # Get the text of the third next sibling\n",
    "        third_sibling_texts.append(third_sibling.text)\n",
    "    except Exception as e:\n",
    "        # Handle cases where the key or sibling is not found\n",
    "        if \"no such element\" in str(e).lower():\n",
    "            print(f\"Key '{key}' not found. Returning 0.\")\n",
    "            third_sibling_texts.append(0)\n",
    "        else:\n",
    "            print(f\"Error for key '{key}': {e}\")\n",
    "            third_sibling_texts.append(None)\n",
    "\n",
    "# Add the extracted texts as a new column in the DataFrame\n",
    "data['weight'] = third_sibling_texts\n",
    "data['weight'] = data['weight'].astype(str).str.replace('計費重量 - ', '')\n",
    "\n",
    "# Save the updated DataFrame back to Excel\n",
    "data.to_excel('updated_taobao.xlsx', index=False)\n"
   ]
  }
 ],
 "metadata": {
  "kernelspec": {
   "display_name": "Python 3",
   "language": "python",
   "name": "python3"
  },
  "language_info": {
   "codemirror_mode": {
    "name": "ipython",
    "version": 3
   },
   "file_extension": ".py",
   "mimetype": "text/x-python",
   "name": "python",
   "nbconvert_exporter": "python",
   "pygments_lexer": "ipython3",
   "version": "3.12.6"
  }
 },
 "nbformat": 4,
 "nbformat_minor": 2
}
